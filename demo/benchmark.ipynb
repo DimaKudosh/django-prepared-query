{
 "cells": [
  {
   "cell_type": "code",
   "execution_count": null,
   "metadata": {},
   "outputs": [],
   "source": [
    "# PC Info\n",
    "# CPU: Intel(R) Core(TM) i7-3630QM CPU @ 2.40GHz\n",
    "# RAM: 8GB\n",
    "# Disk: HDD"
   ]
  },
  {
   "cell_type": "code",
   "execution_count": null,
   "metadata": {},
   "outputs": [],
   "source": [
    "from django.db.models import Count\n",
    "from django_prepared_query import BindParam\n",
    "from books.models import Publisher, Book, Author"
   ]
  },
  {
   "cell_type": "code",
   "execution_count": 2,
   "metadata": {},
   "outputs": [
    {
     "name": "stdout",
     "output_type": "stream",
     "text": [
      "257 µs ± 16.2 µs per loop (mean ± std. dev. of 7 runs, 1000 loops each)\n",
      "628 µs ± 41.8 µs per loop (mean ± std. dev. of 7 runs, 1000 loops each)\n"
     ]
    }
   ],
   "source": [
    "prepared_qs = Publisher.prepared_objects.filter(id=BindParam('id')).prepare()\n",
    "qs = Publisher.objects.all()\n",
    "%timeit -n 1000 prepared_qs.execute(id=160)\n",
    "%timeit -n 1000 list(qs.filter(id=160))"
   ]
  },
  {
   "cell_type": "code",
   "execution_count": 3,
   "metadata": {},
   "outputs": [
    {
     "name": "stdout",
     "output_type": "stream",
     "text": [
      "579 µs ± 261 µs per loop (mean ± std. dev. of 7 runs, 500 loops each)\n",
      "1.76 ms ± 79.2 µs per loop (mean ± std. dev. of 7 runs, 500 loops each)\n"
     ]
    }
   ],
   "source": [
    "prepared_qs = Book.prepared_objects.filter(authors__age=BindParam('author_age'), pages__lte=BindParam('max_pages'), \n",
    "                                           pages__gte=BindParam('min_pages')).prepare()\n",
    "qs = Book.objects.all()\n",
    "%timeit -n 500 prepared_qs.execute(author_age=35, min_pages=100, max_pages=1000)\n",
    "%timeit -n 500 list(qs.filter(authors__age=35, pages__gte=100, pages__lte=1000))"
   ]
  },
  {
   "cell_type": "code",
   "execution_count": 4,
   "metadata": {},
   "outputs": [
    {
     "name": "stdout",
     "output_type": "stream",
     "text": [
      "503 µs ± 144 µs per loop (mean ± std. dev. of 7 runs, 1000 loops each)\n",
      "1.57 ms ± 309 µs per loop (mean ± std. dev. of 7 runs, 1000 loops each)\n"
     ]
    }
   ],
   "source": [
    "prepared_qs = Book.prepared_objects.select_related('publisher').filter(id=BindParam('id')).prepare()\n",
    "qs = Book.objects.select_related('publisher')\n",
    "%timeit -n 1000 prepared_qs.execute(id=160)\n",
    "%timeit -n 1000 list(qs.filter(id=160))"
   ]
  },
  {
   "cell_type": "code",
   "execution_count": 5,
   "metadata": {},
   "outputs": [
    {
     "name": "stdout",
     "output_type": "stream",
     "text": [
      "444 µs ± 110 µs per loop (mean ± std. dev. of 7 runs, 1000 loops each)\n",
      "1.98 ms ± 552 µs per loop (mean ± std. dev. of 7 runs, 1000 loops each)\n"
     ]
    }
   ],
   "source": [
    "prepared_qs = Book.prepared_objects.annotate(num_of_authors=Count('authors')).filter(id=160).prepare()\n",
    "qs = Book.objects.annotate(num_of_authors=Count('authors')).filter(id=160)\n",
    "%timeit -n 1000 prepared_qs.execute()\n",
    "%timeit -n 1000 list(qs.all())"
   ]
  },
  {
   "cell_type": "code",
   "execution_count": 7,
   "metadata": {},
   "outputs": [
    {
     "name": "stdout",
     "output_type": "stream",
     "text": [
      "610 µs ± 33.8 µs per loop (mean ± std. dev. of 7 runs, 500 loops each)\n",
      "4.01 ms ± 617 µs per loop (mean ± std. dev. of 7 runs, 500 loops each)\n"
     ]
    }
   ],
   "source": [
    "prepared_qs = Book.prepared_objects.prefetch_related('authors').filter(id__in=[160, 161]).prepare()\n",
    "qs = Book.objects.prefetch_related('authors').filter(id__in=[160, 161])\n",
    "%timeit -n 500 prepared_qs.execute()\n",
    "%timeit -n 500 list(qs.all())"
   ]
  },
  {
   "cell_type": "code",
   "execution_count": 11,
   "metadata": {},
   "outputs": [
    {
     "name": "stdout",
     "output_type": "stream",
     "text": [
      "465 µs ± 87.8 µs per loop (mean ± std. dev. of 7 runs, 1000 loops each)\n",
      "725 µs ± 135 µs per loop (mean ± std. dev. of 7 runs, 1000 loops each)\n"
     ]
    }
   ],
   "source": [
    "prepared_qs = Book.prepared_objects.all()[0:5].prepare()\n",
    "qs = Book.objects.all()[0:5]\n",
    "%timeit -n 1000 prepared_qs.execute()\n",
    "%timeit -n 1000 list(qs.all())"
   ]
  },
  {
   "cell_type": "code",
   "execution_count": 13,
   "metadata": {},
   "outputs": [
    {
     "name": "stdout",
     "output_type": "stream",
     "text": [
      "1.48 ms ± 109 µs per loop (mean ± std. dev. of 7 runs, 500 loops each)\n",
      "2.42 ms ± 296 µs per loop (mean ± std. dev. of 7 runs, 500 loops each)\n"
     ]
    }
   ],
   "source": [
    "from django.db.models import Count\n",
    "prepared_qs = Book.prepared_objects.annotate(num_of_authors=Count('authors')). \\\n",
    "    filter(num_of_authors__gte=BindParam('num_of_authors')).prepare()\n",
    "qs = Book.objects.annotate(num_of_authors=Count('authors'))\n",
    "%timeit -n 500 prepared_qs.execute(num_of_authors=6)\n",
    "%timeit -n 500 list(qs.filter(num_of_authors__gte=6))"
   ]
  },
  {
   "cell_type": "code",
   "execution_count": null,
   "metadata": {},
   "outputs": [],
   "source": []
  }
 ],
 "metadata": {
  "kernelspec": {
   "display_name": "Django Shell-Plus",
   "language": "python",
   "name": "django_extensions"
  },
  "language_info": {
   "codemirror_mode": {
    "name": "ipython",
    "version": 3
   },
   "file_extension": ".py",
   "mimetype": "text/x-python",
   "name": "python",
   "nbconvert_exporter": "python",
   "pygments_lexer": "ipython3",
   "version": "3.5.2"
  }
 },
 "nbformat": 4,
 "nbformat_minor": 1
}
