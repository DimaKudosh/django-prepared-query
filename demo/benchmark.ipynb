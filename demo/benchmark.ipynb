{
 "cells": [
  {
   "cell_type": "code",
   "execution_count": 18,
   "metadata": {},
   "outputs": [
    {
     "name": "stdout",
     "output_type": "stream",
     "text": [
      "524 µs ± 68.5 µs per loop (mean ± std. dev. of 7 runs, 1000 loops each)\n",
      "661 µs ± 78.9 µs per loop (mean ± std. dev. of 7 runs, 1000 loops each)\n"
     ]
    }
   ],
   "source": [
    "from books.models import Publisher\n",
    "from django_prepared_query import BindParam\n",
    "\n",
    "prepared_qs = Publisher.prepared_objects.filter(id=BindParam('id')).prepare()\n",
    "qs = Publisher.objects.all()\n",
    "%timeit prepared_qs.execute(id=160)\n",
    "%timeit list(qs.filter(id=160))"
   ]
  },
  {
   "cell_type": "code",
   "execution_count": 20,
   "metadata": {},
   "outputs": [
    {
     "name": "stdout",
     "output_type": "stream",
     "text": [
      "940 µs ± 137 µs per loop (mean ± std. dev. of 7 runs, 1000 loops each)\n",
      "2.12 ms ± 246 µs per loop (mean ± std. dev. of 7 runs, 100 loops each)\n"
     ]
    }
   ],
   "source": [
    "from books.models import Book\n",
    "\n",
    "prepared_qs = Book.prepared_objects.filter(authors__age=BindParam('author_age'), pages__lte=BindParam('max_pages'), \n",
    "                                           pages__gte=BindParam('min_pages')).prepare()\n",
    "qs = Book.objects.all()\n",
    "%timeit prepared_qs.execute(author_age=35, min_pages=100, max_pages=1000)\n",
    "%timeit list(qs.filter(authors__age=35, pages__gte=100, pages__lte=1000))"
   ]
  },
  {
   "cell_type": "code",
   "execution_count": 22,
   "metadata": {},
   "outputs": [
    {
     "name": "stdout",
     "output_type": "stream",
     "text": [
      "961 µs ± 92.6 µs per loop (mean ± std. dev. of 7 runs, 1000 loops each)\n",
      "1.24 ms ± 153 µs per loop (mean ± std. dev. of 7 runs, 1000 loops each)\n"
     ]
    }
   ],
   "source": [
    "prepared_qs = Book.prepared_objects.select_related('publisher').filter(id=BindParam('id')).prepare()\n",
    "qs = Book.objects.select_related('publisher')\n",
    "%timeit prepared_qs.execute(id=160)\n",
    "%timeit list(qs.filter(id=160))"
   ]
  },
  {
   "cell_type": "code",
   "execution_count": 18,
   "metadata": {},
   "outputs": [
    {
     "name": "stdout",
     "output_type": "stream",
     "text": [
      "690 µs ± 50.5 µs per loop (mean ± std. dev. of 7 runs, 1000 loops each)\n",
      "1.02 ms ± 97.8 µs per loop (mean ± std. dev. of 7 runs, 1000 loops each)\n"
     ]
    }
   ],
   "source": [
    "from django.db.models import Count\n",
    "prepared_qs = Book.prepared_objects.annotate(num_of_authors=Count('authors')).filter(id=160).prepare()\n",
    "qs = Book.objects.annotate(num_of_authors=Count('authors')).filter(id=160)\n",
    "%timeit prepared_qs.execute()\n",
    "%timeit list(qs.all())"
   ]
  },
  {
   "cell_type": "code",
   "execution_count": 10,
   "metadata": {},
   "outputs": [
    {
     "name": "stdout",
     "output_type": "stream",
     "text": [
      "3.18 ms ± 562 µs per loop (mean ± std. dev. of 7 runs, 100 loops each)\n",
      "3.78 ms ± 526 µs per loop (mean ± std. dev. of 7 runs, 100 loops each)\n"
     ]
    }
   ],
   "source": [
    "prepared_qs = Book.prepared_objects.prefetch_related('authors').filter(id__in=[160, 161]).prepare()\n",
    "qs = Book.objects.prefetch_related('authors').filter(id__in=[160, 161])\n",
    "%timeit prepared_qs.execute()\n",
    "%timeit list(qs.all())"
   ]
  },
  {
   "cell_type": "code",
   "execution_count": 14,
   "metadata": {},
   "outputs": [
    {
     "name": "stdout",
     "output_type": "stream",
     "text": [
      "711 µs ± 57 µs per loop (mean ± std. dev. of 7 runs, 1000 loops each)\n",
      "731 µs ± 44.6 µs per loop (mean ± std. dev. of 7 runs, 1000 loops each)\n"
     ]
    }
   ],
   "source": [
    "prepared_qs = Book.prepared_objects.all()[0:5].prepare()\n",
    "qs = Book.objects.all()[0:5]\n",
    "%timeit prepared_qs.execute()\n",
    "%timeit list(qs.all())"
   ]
  },
  {
   "cell_type": "code",
   "execution_count": 25,
   "metadata": {},
   "outputs": [
    {
     "name": "stdout",
     "output_type": "stream",
     "text": [
      "2.17 ms ± 248 µs per loop (mean ± std. dev. of 7 runs, 1000 loops each)\n",
      "2.5 ms ± 282 µs per loop (mean ± std. dev. of 7 runs, 100 loops each)\n"
     ]
    }
   ],
   "source": [
    "from django.db.models import Count\n",
    "prepared_qs = Book.prepared_objects.annotate(num_of_authors=Count('authors')). \\\n",
    "    filter(num_of_authors__gte=BindParam('num_of_authors')).prepare()\n",
    "qs = Book.objects.annotate(num_of_authors=Count('authors'))\n",
    "%timeit prepared_qs.execute(num_of_authors=6)\n",
    "%timeit list(qs.filter(num_of_authors__gte=6))"
   ]
  },
  {
   "cell_type": "code",
   "execution_count": null,
   "metadata": {},
   "outputs": [],
   "source": []
  }
 ],
 "metadata": {
  "kernelspec": {
   "display_name": "Django Shell-Plus",
   "language": "python",
   "name": "django_extensions"
  },
  "language_info": {
   "codemirror_mode": {
    "name": "ipython",
    "version": 3
   },
   "file_extension": ".py",
   "mimetype": "text/x-python",
   "name": "python",
   "nbconvert_exporter": "python",
   "pygments_lexer": "ipython3",
   "version": "3.5.2"
  }
 },
 "nbformat": 4,
 "nbformat_minor": 1
}
